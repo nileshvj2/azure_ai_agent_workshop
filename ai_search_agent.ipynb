{
 "cells": [
  {
   "cell_type": "markdown",
   "id": "2c4d62b3",
   "metadata": {},
   "source": [
    "# Azure AI Agent Service - AI Search"
   ]
  },
  {
   "cell_type": "markdown",
   "id": "cb23f2ec",
   "metadata": {},
   "source": [
    "### *Create Azure AI Search agent to search over the documents indexed using Azure AI search service*"
   ]
  },
  {
   "cell_type": "markdown",
   "id": "dc0015a9",
   "metadata": {},
   "source": [
    "<span style=\"color:red\"> Please review **pre-requisite** section in the readme file before running this notebook! </span>\n",
    "\n",
    "<span style=\"color:red\"> This notebook is created to run based on new Foundry Projects (v2). For old hub based projects use artifacts created in **/pre-build** folder ! </span>\n"
   ]
  },
  {
   "cell_type": "markdown",
   "id": "ef4b6ab0",
   "metadata": {},
   "source": [
    "#### Step 1\n",
    "\n",
    "* Rename *credentials.txt* file to *credentials.env* file \n",
    "\n",
    "* Add all required configuration values in the *credentials.env* file\n",
    "\n",
    "* Select kernel as *Python 3* in the top right corner of the notebook (Python version 3.12)\n",
    "\n"
   ]
  },
  {
   "cell_type": "markdown",
   "id": "5d6983d5",
   "metadata": {},
   "source": [
    "#### Step 2\n",
    "\n",
    "* Login to Azure account, by following the below steps:\n",
    "\n",
    "    * Right click on this notebook from left menu and open in terminal\n",
    "    \n",
    "    * Run the command `az login` and follow the instructions to login to your Azure account\n",
    "    \n",
    "    (If you see any issues logging in to Azure CLI, error might be due to azure policies, try different tenant/subscription)"
   ]
  },
  {
   "cell_type": "code",
   "execution_count": null,
   "id": "39334bce",
   "metadata": {},
   "outputs": [],
   "source": [
    "import os\n",
    "from datetime import datetime as pydatetime\n",
    "from typing import Any, List, Dict\n",
    "from dotenv import load_dotenv\n",
    "# Azure AI Projects\n",
    "from azure.identity import DefaultAzureCredential\n",
    "from azure.ai.projects import AIProjectClient\n",
    "from azure.ai.projects.models import ConnectionType\n",
    "from azure.ai.agents.models import AzureAISearchTool, AzureAISearchQueryType\n",
    "from azure.ai.agents.models import MessageRole, ListSortOrder"
   ]
  },
  {
   "cell_type": "code",
   "execution_count": null,
   "id": "6e6d7dd1",
   "metadata": {},
   "outputs": [],
   "source": [
    "# Step 3 (Optional) - Not required if you are using codespaces or Jupyter notebooks with pre-installed dependencies.\n",
    "\n",
    "# If you encounter any errors during execution of above cell, install dependencies manually by running below command:\n",
    "# Make sure you are using python version > 3.10\n",
    "\n",
    "# %pip install -r requirements.txt"
   ]
  },
  {
   "cell_type": "markdown",
   "id": "ae21042e",
   "metadata": {},
   "source": [
    "Load variables from env file"
   ]
  },
  {
   "cell_type": "code",
   "execution_count": null,
   "id": "bffebe8a",
   "metadata": {},
   "outputs": [],
   "source": [
    "# load secrets\n",
    "load_dotenv(\"credentials.env\", override=True)\n",
    "projectEndpoint=os.environ[\"PROJECT_ENDPOINT\"]\n",
    "modelName=os.getenv(\"AZURE_OPENAI_CHAT_DEPLOYMENT_NAME\")\n",
    "aiSearchConnectionName = os.getenv(\"AISEARCH_CONNECTION_NAME\")\n",
    "indexName = os.getenv(\"AISEARCH_INDEX_NAME\")"
   ]
  },
  {
   "cell_type": "markdown",
   "id": "502cc5d9",
   "metadata": {},
   "source": [
    "Check version of AI projects library. Make sure you are using version 1.0.0b11"
   ]
  },
  {
   "cell_type": "code",
   "execution_count": null,
   "id": "8ba47bbf",
   "metadata": {},
   "outputs": [],
   "source": [
    "import azure.ai.projects\n",
    "print(azure.ai.projects.__version__)"
   ]
  },
  {
   "cell_type": "markdown",
   "id": "d2f34036",
   "metadata": {},
   "source": [
    "Create Foundry project client"
   ]
  },
  {
   "cell_type": "code",
   "execution_count": null,
   "id": "73901da1",
   "metadata": {},
   "outputs": [],
   "source": [
    "# Create a client to interact with Azure AI Projects\n",
    "project_client = AIProjectClient(endpoint=projectEndpoint, credential=DefaultAzureCredential(exclude_interactive_browser_credential=False))"
   ]
  },
  {
   "cell_type": "markdown",
   "id": "9afcac27",
   "metadata": {},
   "source": [
    "List all agents to see what's already available"
   ]
  },
  {
   "cell_type": "code",
   "execution_count": null,
   "id": "313b081e",
   "metadata": {},
   "outputs": [],
   "source": [
    "# List all agents to see what's already available\n",
    "all_agents = project_client.agents.list_agents()\n",
    "\n",
    "for agent in all_agents:\n",
    "\tprint(f\"- {agent.name} (ID: {agent.id})\")"
   ]
  },
  {
   "cell_type": "markdown",
   "id": "0daf3bbf",
   "metadata": {},
   "source": [
    "List all the connections"
   ]
  },
  {
   "cell_type": "code",
   "execution_count": null,
   "id": "10260949",
   "metadata": {},
   "outputs": [],
   "source": [
    "print(\"List all connections:\")\n",
    "for connection in project_client.connections.list():\n",
    "    print(connection)    "
   ]
  },
  {
   "cell_type": "markdown",
   "id": "1302580d",
   "metadata": {},
   "source": [
    "----"
   ]
  },
  {
   "cell_type": "markdown",
   "id": "cb4e5d0c",
   "metadata": {},
   "source": [
    "ex-1: Get Azure AI Search Connection"
   ]
  },
  {
   "cell_type": "code",
   "execution_count": null,
   "id": "e7f8e5fa",
   "metadata": {},
   "outputs": [],
   "source": [
    "print(\"Get the default connection of a particular type, with its credentials:\")\n",
    "\n",
    "# To do"
   ]
  },
  {
   "cell_type": "markdown",
   "id": "1917a2be",
   "metadata": {},
   "source": [
    "ex-2: Enter input prompt to search over the documents indexed using Azure AI search service \n",
    "and name the agent as *AISearchWorkshopAgent*"
   ]
  },
  {
   "cell_type": "code",
   "execution_count": null,
   "id": "f1751f71",
   "metadata": {},
   "outputs": [],
   "source": [
    "newAgentName = \"AISearchWorkshopAgent\" #Add name of the new agent\n",
    "input_prompt = \"does perks plus cover gym membership?\" # replace with your own input prompt"
   ]
  },
  {
   "cell_type": "markdown",
   "id": "4c92c54e",
   "metadata": {},
   "source": [
    "ex-3: Create new AI search agent"
   ]
  },
  {
   "cell_type": "code",
   "execution_count": null,
   "id": "3767c73e",
   "metadata": {},
   "outputs": [],
   "source": [
    "\n",
    "# Initialize agent AI search tool and add the search index connection id\n",
    "\n",
    "# To do\n",
    "\n",
    "# Create agent with AI search tool and process assistant run\n",
    "\n",
    "# To do"
   ]
  },
  {
   "cell_type": "markdown",
   "id": "7f0f2c83",
   "metadata": {},
   "source": [
    "ex-4: Create thread and add messages to the thread"
   ]
  },
  {
   "cell_type": "code",
   "execution_count": null,
   "id": "9cac837b",
   "metadata": {},
   "outputs": [],
   "source": [
    "# Create thread for communication\n",
    "# To do\n",
    "\n",
    "#Uncomment below line...\n",
    "#print(f\"Created thread, ID: {thread.id}\")\n",
    "\n",
    "# Create message to thread\n",
    "# Remember to update the message with your data\n",
    "\n",
    "# To do\n",
    "\n",
    "#Uncomment below line...\n",
    "#print(f\"Created message, ID: {message.id}\")"
   ]
  },
  {
   "cell_type": "markdown",
   "id": "b163b138",
   "metadata": {},
   "source": [
    "ex-5: Run the agent and get the response"
   ]
  },
  {
   "cell_type": "code",
   "execution_count": null,
   "id": "136a3b8b",
   "metadata": {},
   "outputs": [],
   "source": [
    "# Create and process agent run in thread with tools\n",
    "# To do \n",
    "\n",
    "# Uncomment below line...\n",
    "#print(f\"Run finished with status: {run.status}\")\n",
    "\n",
    "# Uncomment below code...\n",
    "\n",
    "# if run.status == \"failed\":\n",
    "#     print(f\"Run failed: {run.last_error}\")\n",
    "\n",
    "\n",
    "# Fetch and log all messages\n",
    "\n",
    "# To do"
   ]
  },
  {
   "cell_type": "markdown",
   "id": "b3043d34",
   "metadata": {},
   "source": [
    "----"
   ]
  },
  {
   "cell_type": "markdown",
   "id": "df16d55a",
   "metadata": {},
   "source": [
    "Response recvd: "
   ]
  },
  {
   "cell_type": "code",
   "execution_count": null,
   "id": "82b83be6",
   "metadata": {},
   "outputs": [],
   "source": [
    "# Uncomment below code...\n",
    "# for message in messages:\n",
    "#     print(f\"Role: {message.role}, Content: {message.content}\")"
   ]
  },
  {
   "cell_type": "markdown",
   "id": "27f1d710",
   "metadata": {},
   "source": [
    "Clean up - Delete the agent and thread..."
   ]
  },
  {
   "cell_type": "code",
   "execution_count": null,
   "id": "a60211bd",
   "metadata": {},
   "outputs": [],
   "source": [
    "# Uncomment below code .....\n",
    "# project_client.agents.delete_agent(agent.id)\n",
    "# print(\"Deleted agent\")"
   ]
  },
  {
   "cell_type": "code",
   "execution_count": null,
   "id": "af8ae3dc",
   "metadata": {},
   "outputs": [],
   "source": [
    "# Uncomment below code .....\n",
    "# project_client.agents.threads.delete(thread.id)\n",
    "# print(\"Deleted thread\")"
   ]
  }
 ],
 "metadata": {
  "kernelspec": {
   "display_name": ".venv",
   "language": "python",
   "name": "python3"
  },
  "language_info": {
   "codemirror_mode": {
    "name": "ipython",
    "version": 3
   },
   "file_extension": ".py",
   "mimetype": "text/x-python",
   "name": "python",
   "nbconvert_exporter": "python",
   "pygments_lexer": "ipython3",
   "version": "3.12.10"
  }
 },
 "nbformat": 4,
 "nbformat_minor": 5
}
