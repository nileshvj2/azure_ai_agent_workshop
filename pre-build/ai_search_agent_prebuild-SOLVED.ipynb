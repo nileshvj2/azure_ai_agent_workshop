{
 "cells": [
  {
   "cell_type": "markdown",
   "id": "2c4d62b3",
   "metadata": {},
   "source": [
    "# Azure AI Agent Service - AI Search"
   ]
  },
  {
   "cell_type": "markdown",
   "id": "cb23f2ec",
   "metadata": {},
   "source": [
    "### *Create Azure AI Search agent to search over the documents indexed using Azure AI search service*"
   ]
  },
  {
   "cell_type": "markdown",
   "id": "dc0015a9",
   "metadata": {},
   "source": [
    "<span style=\"color:red\"> Please refer *pre-requisite* section in readme file before running this notebook! </span>\n",
    "\n",
    "<span style=\"color:red\"> This notebook is created to work based on Foundry hub based project set up, These instructions won't work on new Foundry projects (v2)! </span>"
   ]
  },
  {
   "cell_type": "markdown",
   "id": "ef4b6ab0",
   "metadata": {},
   "source": [
    "#### Step 1\n",
    "\n",
    "* Rename *credentials.txt* file to *credentials.env* file \n",
    "\n",
    "* Add all required configuration values in the *credentials.env* file\n",
    "\n",
    "* Select kernel as *Python 3* in the top right corner of the notebook (Python version 3.12)\n",
    "\n"
   ]
  },
  {
   "cell_type": "markdown",
   "id": "5d6983d5",
   "metadata": {},
   "source": [
    "#### Step 2\n",
    "\n",
    "* Login to Azure account, by following the below steps:\n",
    "\n",
    "    * Right click on this notebook from left menu and open in terminal\n",
    "    \n",
    "    * Run the command `az login` and follow the instructions to login to your Azure account\n",
    "    \n",
    "    (If you see any issues logging in to Azure CLI, error might be due to azure policies, try different tenant/subscription)"
   ]
  },
  {
   "cell_type": "code",
   "execution_count": null,
   "id": "39334bce",
   "metadata": {},
   "outputs": [],
   "source": [
    "import os\n",
    "from datetime import datetime as pydatetime\n",
    "from typing import Any, List, Dict\n",
    "from dotenv import load_dotenv\n",
    "# Azure AI Projects\n",
    "from azure.identity import DefaultAzureCredential\n",
    "from azure.ai.projects import AIProjectClient\n",
    "from azure.ai.projects.models import ConnectionType\n",
    "from azure.ai.projects.models import AzureAISearchTool, AzureAISearchQueryType"
   ]
  },
  {
   "cell_type": "code",
   "execution_count": 2,
   "id": "6e6d7dd1",
   "metadata": {},
   "outputs": [],
   "source": [
    "# Step 3 (Optional) - Not required if you are using codespaces or Jupyter notebooks with pre-installed dependencies.\n",
    "\n",
    "# If you encounter any errors during execution of above cell, install dependencies manually by running below command:\n",
    "# Make sure you are using python version > 3.10\n",
    "\n",
    "# %pip install -r requirements.txt"
   ]
  },
  {
   "cell_type": "markdown",
   "id": "ae21042e",
   "metadata": {},
   "source": [
    "Load variables from env file"
   ]
  },
  {
   "cell_type": "code",
   "execution_count": null,
   "id": "bffebe8a",
   "metadata": {},
   "outputs": [],
   "source": [
    "# load secrets\n",
    "load_dotenv(\"credentials.env\", override=True)\n",
    "aiConnectionStr=os.environ[\"AIPROJECT_CONNECTION_STRING\"]\n",
    "modelName=os.getenv(\"AZURE_OPENAI_CHAT_DEPLOYMENT_NAME\")\n",
    "aiSearchConnectionName = os.getenv(\"AISEARCH_CONNECTION_NAME\")\n",
    "indexName = os.getenv(\"AISEARCH_INDEX_NAME\")"
   ]
  },
  {
   "cell_type": "markdown",
   "id": "502cc5d9",
   "metadata": {},
   "source": [
    "Check version of AI projects library. Make sure you are using version 1.0.0b10"
   ]
  },
  {
   "cell_type": "code",
   "execution_count": null,
   "id": "8ba47bbf",
   "metadata": {},
   "outputs": [],
   "source": [
    "import azure.ai.projects\n",
    "print(azure.ai.projects.__version__)"
   ]
  },
  {
   "cell_type": "code",
   "execution_count": null,
   "id": "3ce9c12a",
   "metadata": {},
   "outputs": [],
   "source": [
    "# Create Client and Load Azure AI Foundry project client\n",
    "credential = DefaultAzureCredential(exclude_interactive_browser_credential=False)\n",
    "project_client = AIProjectClient.from_connection_string(\n",
    "    credential=credential,\n",
    "    scope=['https://management.azure.com','https://management.core.windows.net','https://management.core.windows.net/','https://management.core.windows.net','https://management.azure.com/','https://management.azure.com'],\n",
    "    conn_str=aiConnectionStr,   \n",
    ")"
   ]
  },
  {
   "cell_type": "code",
   "execution_count": null,
   "id": "313b081e",
   "metadata": {},
   "outputs": [],
   "source": [
    "# List all agents to see what's already available\n",
    "all_agents = project_client.agents.list_agents().data\n",
    "print(f\"Found {len(all_agents)} agents:\")\n",
    "for agent in all_agents:\n",
    "\tprint(f\"- {agent.name} (ID: {agent.id})\")"
   ]
  },
  {
   "cell_type": "code",
   "execution_count": null,
   "id": "674b3409",
   "metadata": {},
   "outputs": [],
   "source": [
    "#AI search connection\n",
    "aisearch_connection = project_client.connections.get(\n",
    "    connection_name=aiSearchConnectionName,    \n",
    "    include_credentials=True,  # Optional. Defaults to \"False\".\n",
    ")\n",
    "print(aisearch_connection)"
   ]
  },
  {
   "cell_type": "markdown",
   "id": "f649b000",
   "metadata": {},
   "source": [
    "------"
   ]
  },
  {
   "cell_type": "markdown",
   "id": "1917a2be",
   "metadata": {},
   "source": [
    "ex-1: Enter input prompt to search over the documents indexed using Azure AI search service \n",
    "and name the agent as *AISearchWorkshopAgent*"
   ]
  },
  {
   "cell_type": "code",
   "execution_count": null,
   "id": "f1751f71",
   "metadata": {},
   "outputs": [],
   "source": [
    "newAgentName = \"AISearchWorkshopAgent\"\n",
    "input_prompt = \"does perks plus cover gym membership?\""
   ]
  },
  {
   "cell_type": "markdown",
   "id": "4c92c54e",
   "metadata": {},
   "source": [
    "ex-2: Create new AI search agent"
   ]
  },
  {
   "cell_type": "code",
   "execution_count": null,
   "id": "3767c73e",
   "metadata": {},
   "outputs": [],
   "source": [
    "\n",
    "# Initialize agent AI search tool and add the search index connection id\n",
    "ai_search = AzureAISearchTool(\n",
    "    index_connection_id=aisearch_connection.id, index_name=indexName, query_type=AzureAISearchQueryType.SEMANTIC, top_k=3, filter=\"\"\n",
    ")\n",
    "\n",
    "# Create agent with AI search tool and process assistant run\n",
    "\n",
    "agent = project_client.agents.create_agent(\n",
    "    model=modelName,\n",
    "    name=newAgentName,\n",
    "    instructions=\"You are a helpful assistant\",\n",
    "    tools=ai_search.definitions,\n",
    "    tool_resources=ai_search.resources\n",
    ")"
   ]
  },
  {
   "cell_type": "markdown",
   "id": "7f0f2c83",
   "metadata": {},
   "source": [
    "ex-3: Create thread and add messages to the thread"
   ]
  },
  {
   "cell_type": "code",
   "execution_count": null,
   "id": "9cac837b",
   "metadata": {},
   "outputs": [],
   "source": [
    "# Create thread for communication\n",
    "thread = project_client.agents.create_thread()\n",
    "print(f\"Created thread, ID: {thread.id}\")\n",
    "\n",
    "# Create message to thread\n",
    "# Remember to update the message with your data\n",
    "message = project_client.agents.create_message(\n",
    "    thread_id=thread.id,\n",
    "    role=\"user\",\n",
    "    content=input_prompt,\n",
    ")\n",
    "print(f\"Created message, ID: {message.id}\")"
   ]
  },
  {
   "cell_type": "markdown",
   "id": "b163b138",
   "metadata": {},
   "source": [
    "ex-4: Run the agent and get the response"
   ]
  },
  {
   "cell_type": "code",
   "execution_count": null,
   "id": "136a3b8b",
   "metadata": {},
   "outputs": [],
   "source": [
    "# Create and process agent run in thread with tools\n",
    "run = project_client.agents.create_and_process_run(thread_id=thread.id, agent_id=agent.id)\n",
    "print(f\"Run finished with status: {run.status}\")\n",
    "\n",
    "if run.status == \"failed\":\n",
    "    print(f\"Run failed: {run.last_error}\")\n",
    "\n",
    "# Fetch and log all messages\n",
    "messages = project_client.agents.list_messages(thread_id=thread.id)\n",
    "print(f\"Messages: {messages}\")\n"
   ]
  },
  {
   "cell_type": "markdown",
   "id": "b3043d34",
   "metadata": {},
   "source": [
    "----"
   ]
  },
  {
   "cell_type": "markdown",
   "id": "df16d55a",
   "metadata": {},
   "source": [
    "Response recvd: "
   ]
  },
  {
   "cell_type": "code",
   "execution_count": null,
   "id": "82b83be6",
   "metadata": {},
   "outputs": [],
   "source": [
    "agent_response = messages.data[0].content[0].text.value# Get the content of the first message]\n",
    "print(agent_response)"
   ]
  },
  {
   "cell_type": "markdown",
   "id": "27f1d710",
   "metadata": {},
   "source": [
    "Clean up"
   ]
  },
  {
   "cell_type": "code",
   "execution_count": null,
   "id": "a60211bd",
   "metadata": {},
   "outputs": [],
   "source": [
    "#Delete the assistant when done\n",
    "project_client.agents.delete_agent(agent.id)\n",
    "print(\"Deleted agent\")\n",
    "project_client.agents.delete_thread(thread.id)\n",
    "print(\"Deleted thread\")"
   ]
  }
 ],
 "metadata": {
  "kernelspec": {
   "display_name": "Python 3",
   "language": "python",
   "name": "python3"
  },
  "language_info": {
   "codemirror_mode": {
    "name": "ipython",
    "version": 3
   },
   "file_extension": ".py",
   "mimetype": "text/x-python",
   "name": "python",
   "nbconvert_exporter": "python",
   "pygments_lexer": "ipython3",
   "version": "3.12.10"
  }
 },
 "nbformat": 4,
 "nbformat_minor": 5
}
